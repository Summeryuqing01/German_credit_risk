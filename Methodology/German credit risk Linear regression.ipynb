{
 "cells": [
  {
   "cell_type": "code",
   "execution_count": 5,
   "id": "14657ea8",
   "metadata": {},
   "outputs": [
    {
     "data": {
      "text/plain": [
       "(   Age   Sex  Job Housing Saving.accounts Checking.account  Duration  \\\n",
       " 0   67  male    2     own      quite rich           little         6   \n",
       " 1   49  male    1     own          little           little        12   \n",
       " 2   45  male    2    free          little           little        42   \n",
       " 3   53  male    2    free          little           little        24   \n",
       " 4   35  male    1    free        moderate         moderate        36   \n",
       " \n",
       "                Purpose  Credit.amount  \n",
       " 0             radio/TV           1169  \n",
       " 1            education           2096  \n",
       " 2  furniture/equipment           7882  \n",
       " 3                  car           4870  \n",
       " 4            education           9055  ,\n",
       "    Age     Sex  Job Housing Saving.accounts Checking.account  Duration  \\\n",
       " 0   22  female    2     own          little         moderate        48   \n",
       " 1   53    male    2     own      quite rich         moderate        24   \n",
       " 2   24  female    2    rent          little           little        48   \n",
       " 3   60    male    1     own          little           little        24   \n",
       " 4   44  female    3    free          little         moderate        24   \n",
       " \n",
       "                Purpose  Credit.amount  \n",
       " 0             radio/TV           5951  \n",
       " 1  furniture/equipment           2835  \n",
       " 2             business           4308  \n",
       " 3                  car           1199  \n",
       " 4                  car          12579  )"
      ]
     },
     "execution_count": 5,
     "metadata": {},
     "output_type": "execute_result"
    }
   ],
   "source": [
    "import pandas as pd\n",
    "from sklearn.model_selection import train_test_split\n",
    "from sklearn.preprocessing import OneHotEncoder\n",
    "from sklearn.compose import ColumnTransformer\n",
    "from sklearn.pipeline import make_pipeline\n",
    "from sklearn.linear_model import LogisticRegression\n",
    "from sklearn.metrics import classification_report, accuracy_score\n",
    "\n",
    "train_df = pd.read_csv('German train.csv')\n",
    "test_df = pd.read_csv('German test.csv')\n",
    "train_df.head(), test_df.head()\n"
   ]
  },
  {
   "cell_type": "code",
   "execution_count": 12,
   "id": "cd529464",
   "metadata": {},
   "outputs": [
    {
     "data": {
      "text/plain": [
       "Credit.amount                  1.000000\n",
       "Duration                       0.589370\n",
       "Job                            0.296344\n",
       "Housing_free                   0.192472\n",
       "Purpose_car                    0.148046\n",
       "Sex_male                       0.130422\n",
       "Checking.account_moderate      0.123932\n",
       "Purpose_business               0.101761\n",
       "Purpose_vacation/others        0.072180\n",
       "Age                            0.055432\n",
       "Saving.accounts_moderate       0.041984\n",
       "Saving.accounts_little         0.022296\n",
       "Checking.account_little       -0.011347\n",
       "Purpose_furniture/equipment   -0.016070\n",
       "Saving.accounts_rich          -0.029446\n",
       "Purpose_education             -0.030894\n",
       "Purpose_repairs               -0.040364\n",
       "Housing_rent                  -0.053247\n",
       "Saving.accounts_quite rich    -0.057893\n",
       "Purpose_domestic appliances   -0.070935\n",
       "Housing_own                   -0.087474\n",
       "Sex_female                    -0.130422\n",
       "Checking.account_rich         -0.166427\n",
       "Purpose_radio/TV              -0.175943\n",
       "Name: Credit.amount, dtype: float64"
      ]
     },
     "execution_count": 12,
     "metadata": {},
     "output_type": "execute_result"
    }
   ],
   "source": [
    "correlation_matrix_full = train_encoded.corr()\n",
    "credit_amount_correlation_full = correlation_matrix_full['Credit.amount'].sort_values(ascending=False)\n",
    "credit_amount_correlation_full\n",
    "\n"
   ]
  },
  {
   "cell_type": "code",
   "execution_count": 11,
   "id": "3675262c",
   "metadata": {},
   "outputs": [
    {
     "data": {
      "text/plain": [
       "(4898372.044991403,\n",
       " 1483.4248005685452,\n",
       " 0.49044171622468635,\n",
       " 2213.2266140166043)"
      ]
     },
     "execution_count": 11,
     "metadata": {},
     "output_type": "execute_result"
    }
   ],
   "source": [
    "import pandas as pd\n",
    "from sklearn.linear_model import LinearRegression\n",
    "from sklearn.metrics import mean_squared_error\n",
    "import numpy as np\n",
    "\n",
    "train_encoded = pd.get_dummies(train_df, columns=['Sex', 'Housing', 'Saving.accounts', 'Checking.account', 'Purpose'])\n",
    "test_encoded = pd.get_dummies(test_df, columns=['Sex', 'Housing', 'Saving.accounts', 'Checking.account', 'Purpose'])\n",
    "\n",
    "test_encoded, train_encoded = test_encoded.align(train_encoded, join='inner', axis=1)\n",
    "\n",
    "correlation_matrix = train_encoded.corr()\n",
    "credit_amount_correlations = correlation_matrix['Credit.amount'].sort_values(ascending=False)\n",
    "\n",
    "selected_features = ['Duration', 'Job', 'Housing_free']\n",
    "\n",
    "X_train_selected = train_encoded[selected_features]\n",
    "y_train = train_encoded['Credit.amount']\n",
    "X_test_selected = test_encoded[selected_features]\n",
    "y_test = test_encoded['Credit.amount']\n",
    "\n",
    "lr_selected = LinearRegression()\n",
    "lr_selected.fit(X_train_selected, y_train)\n",
    "\n",
    "y_pred_lr_selected = lr_selected.predict(X_test_selected)\n",
    "\n",
    "rmse_lr_selected = np.sqrt(mean_squared_error(y_test, y_pred_lr_selected))\n",
    "mse_lr_selected = mean_squared_error(y_test, y_pred_lr_selected)\n",
    "mae_lr_selected = mean_absolute_error(y_test, y_pred_lr_selected)\n",
    "r2_lr_selected = r2_score(y_test, y_pred_lr_selected)\n",
    "\n",
    "mse_lr_selected, mae_lr_selected, r2_lr_selected,rmse_lr_selected\n",
    "\n"
   ]
  },
  {
   "cell_type": "code",
   "execution_count": 15,
   "id": "a613aa4f",
   "metadata": {},
   "outputs": [
    {
     "data": {
      "text/plain": [
       "(4630624.437076734, 2151.888574503042, 0.5182944416446444)"
      ]
     },
     "execution_count": 15,
     "metadata": {},
     "output_type": "execute_result"
    }
   ],
   "source": [
    "lr_all = LinearRegression()\n",
    "X_train_all = train_encoded.drop(['Credit.amount'], axis=1)\n",
    "X_test_all = test_encoded.drop(['Credit.amount'], axis=1)\n",
    "y_train_all = train_encoded['Credit.amount']\n",
    "y_test_all = test_encoded['Credit.amount']\n",
    "lr_all.fit(X_train_all, y_train_all)\n",
    "\n",
    "y_pred_lr_all = lr_all.predict(X_test_all)\n",
    "\n",
    "mse_lr_all = mean_squared_error(y_test_all, y_pred_lr_all)\n",
    "\n",
    "rmse_lr_all = np.sqrt(mse_lr_all)\n",
    "\n",
    "r2_lr_all = r2_score(y_test_all, y_pred_lr_all)\n",
    "mse_lr_all, rmse_lr_all, r2_lr_all\n"
   ]
  },
  {
   "cell_type": "code",
   "execution_count": 21,
   "id": "69f5d264",
   "metadata": {},
   "outputs": [
    {
     "data": {
      "text/plain": [
       "{'Purpose_car': {'MSE': 4661724.299859974,\n",
       "  'RMSE': 2159.102660796835,\n",
       "  'R2': 0.5150592458367476},\n",
       " 'Purpose_business': {'MSE': 4630624.437076733,\n",
       "  'RMSE': 2151.888574503042,\n",
       "  'R2': 0.5182944416446446},\n",
       " 'Purpose_education': {'MSE': 4616555.096172077,\n",
       "  'RMSE': 2148.6170194271654,\n",
       "  'R2': 0.5197580195720413},\n",
       " 'Purpose_furniture/equipment': {'MSE': 4631883.3766628215,\n",
       "  'RMSE': 2152.181074320379,\n",
       "  'R2': 0.5181634791352696},\n",
       " 'Purpose_radio/TV': {'MSE': 4616773.864174603,\n",
       "  'RMSE': 2148.6679278507886,\n",
       "  'R2': 0.5197352620013855},\n",
       " 'Purpose_domestic appliances': {'MSE': 4635628.285871583,\n",
       "  'RMSE': 2153.050925053001,\n",
       "  'R2': 0.5177739110314622},\n",
       " 'Purpose_repairs': {'MSE': 4575807.893082258,\n",
       "  'RMSE': 2139.1138102219475,\n",
       "  'R2': 0.5239967900623967},\n",
       " 'Purpose_vacation/others': {'MSE': 4837095.034492065,\n",
       "  'RMSE': 2199.3396814707967,\n",
       "  'R2': 0.4968161214389353}}"
      ]
     },
     "execution_count": 21,
     "metadata": {},
     "output_type": "execute_result"
    }
   ],
   "source": [
    "# Levels of 'Purpose' to be removed one at a time, assumed from the provided screenshot\n",
    "purpose_levels = [\n",
    "    'Purpose_car', 'Purpose_business', 'Purpose_education', \n",
    "    'Purpose_furniture/equipment', 'Purpose_radio/TV', 'Purpose_domestic appliances',\n",
    "    'Purpose_repairs', 'Purpose_vacation/others'\n",
    "]\n",
    "\n",
    "# Function to perform regression excluding one level of 'Purpose' each time\n",
    "def regression_excluding_purpose_level(train_data, test_data, level_to_exclude):\n",
    "    # Encode categorical variables\n",
    "    train_encoded = pd.get_dummies(train_data, drop_first=True)\n",
    "    test_encoded = pd.get_dummies(test_data, drop_first=True)\n",
    "    \n",
    "    # Ensure that both train and test have the same columns\n",
    "    train_encoded, test_encoded = train_encoded.align(test_encoded, join='inner', axis=1)\n",
    "    \n",
    "    # Exclude the specified level of 'Purpose'\n",
    "    if level_to_exclude in train_encoded.columns:\n",
    "        X_train = train_encoded.drop(columns=[level_to_exclude, 'Credit.amount'])\n",
    "        X_test = test_encoded.drop(columns=[level_to_exclude, 'Credit.amount'])\n",
    "    else:\n",
    "        # If the level to exclude is not found, use all columns except 'Credit.amount'\n",
    "        X_train = train_encoded.drop(columns=['Credit.amount'])\n",
    "        X_test = test_encoded.drop(columns=['Credit.amount'])\n",
    "        \n",
    "    # Define target variable\n",
    "    y_train = train_encoded['Credit.amount']\n",
    "    y_test = test_encoded['Credit.amount']\n",
    "    \n",
    "    # Initialize and fit the model\n",
    "    model = LinearRegression().fit(X_train, y_train)\n",
    "    \n",
    "    # Predict and calculate metrics\n",
    "    y_pred = model.predict(X_test)\n",
    "    mse = mean_squared_error(y_test, y_pred)\n",
    "    rmse = np.sqrt(mse)\n",
    "    r2 = r2_score(y_test, y_pred)\n",
    "    \n",
    "    return mse, rmse, r2\n",
    "\n",
    "# Running the regression and collecting results for each level of 'Purpose' removed\n",
    "regression_results_purpose = {}\n",
    "for level in purpose_levels:\n",
    "    mse, rmse, r2 = regression_excluding_purpose_level(train_df, test_df, level)\n",
    "    regression_results_purpose[level] = {'MSE': mse, 'RMSE': rmse, 'R2': r2}\n",
    "\n",
    "regression_results_purpose\n"
   ]
  },
  {
   "cell_type": "code",
   "execution_count": 22,
   "id": "587ed051",
   "metadata": {},
   "outputs": [
    {
     "data": {
      "text/plain": [
       "{'Checking.account_little': {'MSE': 4630624.437076733,\n",
       "  'RMSE': 2151.888574503042,\n",
       "  'R2': 0.5182944416446446},\n",
       " 'Checking.account_moderate': {'MSE': 4631206.793747046,\n",
       "  'RMSE': 2152.023883173011,\n",
       "  'R2': 0.5182338613819074},\n",
       " 'Checking.account_rich': {'MSE': 4634371.207321198,\n",
       "  'RMSE': 2152.758975668479,\n",
       "  'R2': 0.5179046799446483}}"
      ]
     },
     "execution_count": 22,
     "metadata": {},
     "output_type": "execute_result"
    }
   ],
   "source": [
    "# Levels of 'Checking.account' to be removed one at a time\n",
    "checking_account_levels = ['Checking.account_little', 'Checking.account_moderate', 'Checking.account_rich']\n",
    "\n",
    "# Function to perform regression excluding one level of 'Checking.account' each time\n",
    "def regression_excluding_checking_level(train_data, test_data, level_to_exclude):\n",
    "    # Encode categorical variables\n",
    "    train_encoded = pd.get_dummies(train_data, drop_first=True)\n",
    "    test_encoded = pd.get_dummies(test_data, drop_first=True)\n",
    "    \n",
    "    # Ensure that both train and test have the same columns\n",
    "    train_encoded, test_encoded = train_encoded.align(test_encoded, join='inner', axis=1)\n",
    "    \n",
    "    # Exclude the specified level of 'Checking.account'\n",
    "    if level_to_exclude in train_encoded.columns:\n",
    "        X_train = train_encoded.drop(columns=[level_to_exclude, 'Credit.amount'])\n",
    "        X_test = test_encoded.drop(columns=[level_to_exclude, 'Credit.amount'])\n",
    "    else:\n",
    "        # If the level to exclude is not found, use all columns except 'Credit.amount'\n",
    "        X_train = train_encoded.drop(columns=['Credit.amount'])\n",
    "        X_test = test_encoded.drop(columns=['Credit.amount'])\n",
    "        \n",
    "    # Define target variable\n",
    "    y_train = train_encoded['Credit.amount']\n",
    "    y_test = test_encoded['Credit.amount']\n",
    "    \n",
    "    # Initialize and fit the model\n",
    "    model = LinearRegression().fit(X_train, y_train)\n",
    "    \n",
    "    # Predict and calculate metrics\n",
    "    y_pred = model.predict(X_test)\n",
    "    mse = mean_squared_error(y_test, y_pred)\n",
    "    rmse = np.sqrt(mse)\n",
    "    r2 = r2_score(y_test, y_pred)\n",
    "    \n",
    "    return mse, rmse, r2\n",
    "\n",
    "# Running the regression and collecting results for each level of 'Checking.account' removed\n",
    "regression_results_checking = {}\n",
    "for level in checking_account_levels:\n",
    "    mse, rmse, r2 = regression_excluding_checking_level(train_df, test_df, level)\n",
    "    regression_results_checking[level] = {'MSE': mse, 'RMSE': rmse, 'R2': r2}\n",
    "\n",
    "regression_results_checking\n"
   ]
  },
  {
   "cell_type": "code",
   "execution_count": 25,
   "id": "ada15e9f",
   "metadata": {},
   "outputs": [
    {
     "data": {
      "text/plain": [
       "{'Saving.accounts_quite rich': {'MSE': 2065433.6064038028,\n",
       "  'RMSE': 1437.1616493644,\n",
       "  'R2': 0.7851411052357447},\n",
       " 'Saving.accounts_moderate': {'MSE': 2066871.836441262,\n",
       "  'RMSE': 1437.661933989094,\n",
       "  'R2': 0.7849914918493316},\n",
       " 'Saving.accounts_little': {'MSE': 2067952.1809543865,\n",
       "  'RMSE': 1438.0376145825903,\n",
       "  'R2': 0.7848791078795274},\n",
       " 'Saving.accounts_rich': {'MSE': 2069857.3796213875,\n",
       "  'RMSE': 1438.6998921322638,\n",
       "  'R2': 0.7846809175922053}}"
      ]
     },
     "execution_count": 25,
     "metadata": {},
     "output_type": "execute_result"
    }
   ],
   "source": [
    "\n",
    "\n",
    "# Levels of 'Saving.accounts' to be removed one at a time\n",
    "saving_account_levels = ['Saving.accounts_quite rich', 'Saving.accounts_moderate', 'Saving.accounts_little', 'Saving.accounts_rich']\n",
    "\n",
    "# Function to perform regression excluding one level of 'Saving.accounts' each time\n",
    "def regression_excluding_savings_level(train_data, test_data, level_to_exclude):\n",
    "    # Encode categorical variables\n",
    "    train_encoded = pd.get_dummies(train_data, drop_first=True)\n",
    "    test_encoded = pd.get_dummies(test_data, drop_first=True)\n",
    "    \n",
    "    # Ensure that both train and test have the same columns\n",
    "    train_encoded, test_encoded = train_encoded.align(test_encoded, join='inner', axis=1)\n",
    "    \n",
    "    # Exclude the specified level of 'Saving.accounts'\n",
    "    if level_to_exclude in train_encoded.columns:\n",
    "        X_train = train_encoded.drop(columns=[level_to_exclude, 'Credit.amount'])\n",
    "        X_test = test_encoded.drop(columns=[level_to_exclude, 'Credit.amount'])\n",
    "    else:\n",
    "        # If the level to exclude is not found, use all columns except 'Credit.amount'\n",
    "        X_train = train_encoded.drop(columns=['Credit.amount'])\n",
    "        X_test = test_encoded.drop(columns=['Credit.amount'])\n",
    "        \n",
    "    # Define target variable\n",
    "    y_train = train_encoded['Credit.amount']\n",
    "    y_test = test_encoded['Credit.amount']\n",
    "    \n",
    "    # Initialize and fit the model\n",
    "    model = LinearRegression().fit(X_train, y_train)\n",
    "    \n",
    "    # Predict and calculate metrics\n",
    "    y_pred = model.predict(X_test)\n",
    "    mse = mean_squared_error(y_test, y_pred)\n",
    "    rmse = np.sqrt(mse)\n",
    "    r2 = r2_score(y_test, y_pred)\n",
    "    \n",
    "    return mse, rmse, r2\n",
    "\n",
    "# Running the regression and collecting results for each level of 'Saving.accounts' removed\n",
    "regression_results = {}\n",
    "for level in saving_account_levels:\n",
    "    mse, rmse, r2 = regression_excluding_savings_level(train_df, test_df, level)\n",
    "    regression_results[level] = {'MSE': mse, 'RMSE': rmse, 'R2': r2}\n",
    "\n",
    "regression_results\n"
   ]
  }
 ],
 "metadata": {
  "kernelspec": {
   "display_name": "Python 3 (ipykernel)",
   "language": "python",
   "name": "python3"
  },
  "language_info": {
   "codemirror_mode": {
    "name": "ipython",
    "version": 3
   },
   "file_extension": ".py",
   "mimetype": "text/x-python",
   "name": "python",
   "nbconvert_exporter": "python",
   "pygments_lexer": "ipython3",
   "version": "3.11.5"
  }
 },
 "nbformat": 4,
 "nbformat_minor": 5
}
